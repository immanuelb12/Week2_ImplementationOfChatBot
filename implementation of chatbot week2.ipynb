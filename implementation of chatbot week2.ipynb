{
 "cells": [
  {
   "cell_type": "code",
   "execution_count": 1,
   "id": "2d6ee277-0052-4434-9e64-c3d9a0b15e66",
   "metadata": {},
   "outputs": [],
   "source": [
    "import nltk\n",
    "import random\n",
    "import os\n",
    "import ssl\n",
    "from sklearn.feature_extraction.text import TfidfVectorizer\n",
    "from sklearn.linear_model import LogisticRegression\n",
    "\n",
    " "
   ]
  },
  {
   "cell_type": "code",
   "execution_count": 2,
   "id": "f1c9414a-765a-41b9-abd2-75cff8727f2d",
   "metadata": {},
   "outputs": [],
   "source": [
    " \n",
    "intents = [\n",
    "    {\n",
    "        'tag': 'greeting',\n",
    "        'patterns': ['Hi', 'Hello', 'Whats up', 'Hey', 'How are you'],\n",
    "        'responses': ['Hi there', 'Hello', 'Hey', 'Nothing much', 'I’m fine, thank you']\n",
    "    },\n",
    "    {\n",
    "        'tag': 'goodbye',\n",
    "        'patterns': ['Bye', 'See you later', 'Goodbye', 'Take care'],\n",
    "        'responses': ['Goodbye', 'See you later', 'Take care']\n",
    "    },\n",
    "    {\n",
    "        'tag': 'thanks',\n",
    "        'patterns': ['Thank you', 'Thanks', 'Thanks a lot', 'I appreciate it'],\n",
    "        'responses': [\"You're welcome\", \"No problem\", \"Glad I could help\"]\n",
    "    },\n",
    "    {\n",
    "        'tag': 'about',\n",
    "        'patterns': ['What can you do', 'Who are you', 'What are you', 'What is your purpose'],\n",
    "        'responses': [\"I am a chatbot\", \"My purpose is to assist you\", \"I can answer questions and provide assistance\"]\n",
    "    },\n",
    "    {\n",
    "        'tag': 'age',\n",
    "        'patterns': [\"How old are you\", \"What's your age\"],\n",
    "        'responses': [\"I don't have an age. I'm a chatbot.\", \"I was just born in the digital world.\", \"Age is just a number for me.\"]\n",
    "    },\n",
    "    {\n",
    "        'tag': 'weather',\n",
    "        'patterns': [\"What's the weather like\", \"How's the weather today\"],\n",
    "        'responses': [\"I'm sorry, I cannot provide real-time weather information.\", \"You can check the weather on a weather app or website.\"]\n",
    "    },\n",
    "    {\n",
    "        'tag': 'budget',\n",
    "        'patterns': [\"How can I make a budget\", \"What's a good budgeting strategy\", \"How do I create a budget\"],\n",
    "        'responses': [\"To make a budget, start by tracking your income and expenses. Then, allocate your income towards essential expenses.\"]\n",
    "    },\n",
    "    {\n",
    "        'tag': 'credit_score',\n",
    "        'patterns': [\"What is a credit score\", \"How do I check my credit score\", \"How can I improve my credit score\"],\n",
    "        'responses': [\"A credit score is a number that represents your creditworthiness. It is based on your credit history.\"]\n",
    "    }\n",
    "]\n"
   ]
  },
  {
   "cell_type": "code",
   "execution_count": null,
   "id": "63cc9ba7-1d43-4642-a496-96c737b53830",
   "metadata": {},
   "outputs": [
    {
     "name": "stdout",
     "output_type": "stream",
     "text": [
      "Chatbot is running! Type 'exit' to stop.\n"
     ]
    },
    {
     "name": "stdin",
     "output_type": "stream",
     "text": [
      "You:  hi\n"
     ]
    },
    {
     "name": "stdout",
     "output_type": "stream",
     "text": [
      "Chatbot: Hello\n"
     ]
    },
    {
     "name": "stdin",
     "output_type": "stream",
     "text": [
      "You:  hi\n"
     ]
    },
    {
     "name": "stdout",
     "output_type": "stream",
     "text": [
      "Chatbot: I’m fine, thank you\n"
     ]
    }
   ],
   "source": [
    "\n",
    "# Create the vectorizer and classifier\n",
    "vectorizer = TfidfVectorizer()\n",
    "ctf = LogisticRegression(random_state=0, max_iter=10000)\n",
    "\n",
    "# Preprocess the data\n",
    "tags = []\n",
    "patterns = []\n",
    "for intent in intents:\n",
    "    for pattern in intent['patterns']:\n",
    "        tags.append(intent['tag'])\n",
    "        patterns.append(pattern)\n",
    "\n",
    "# Training the model\n",
    "x = vectorizer.fit_transform(patterns)\n",
    "y = tags\n",
    "ctf.fit(x, y)\n",
    "\n",
    "def chatbot():\n",
    "    print(\"Chatbot is running! Type 'exit' to stop.\")\n",
    "    while True:\n",
    "        user_input = input(\"You: \")\n",
    "        if user_input.lower() == 'exit':\n",
    "            break\n",
    "        input_text = vectorizer.transform([user_input])\n",
    "        tag = ctf.predict(input_text)[0]\n",
    "        for intent in intents:\n",
    "            if intent['tag'] == tag:\n",
    "                response = random.choice(intent['responses'])\n",
    "                print(f\"Chatbot: {response}\")\n",
    "\n",
    "if __name__ == \"__main__\":\n",
    "    chatbot()  # Ensure this is only called once\n"
   ]
  },
  {
   "cell_type": "code",
   "execution_count": null,
   "id": "d6366277-54d4-4505-973a-4435299522ac",
   "metadata": {},
   "outputs": [],
   "source": []
  }
 ],
 "metadata": {
  "kernelspec": {
   "display_name": "Python 3 (ipykernel)",
   "language": "python",
   "name": "python3"
  },
  "language_info": {
   "codemirror_mode": {
    "name": "ipython",
    "version": 3
   },
   "file_extension": ".py",
   "mimetype": "text/x-python",
   "name": "python",
   "nbconvert_exporter": "python",
   "pygments_lexer": "ipython3",
   "version": "3.13.1"
  }
 },
 "nbformat": 4,
 "nbformat_minor": 5
}
